{
 "cells": [
  {
   "cell_type": "code",
   "execution_count": 1,
   "id": "30b54dc5-0cdf-4c85-8fa3-8038b260035a",
   "metadata": {},
   "outputs": [],
   "source": [
    "import pandas as pd\n",
    "import os\n"
   ]
  },
  {
   "cell_type": "code",
   "execution_count": 17,
   "id": "22258929-fe42-487b-8c8e-352f59492b04",
   "metadata": {},
   "outputs": [],
   "source": [
    "df = pd.read_csv('raw/branded_food.csv', low_memory=False)\n",
    "\n",
    "output_path = 'processed/branded_food.txt'\n",
    "\n",
    "with open(output_path, 'w', encoding='utf-8') as f:\n",
    "    for index, row in df.iterrows():\n",
    "        if pd.notnull(row['ingredients']):\n",
    "            f.write(f\"{row['brand_owner']}\\n\")\n",
    "            f.write(f\"Ingredients: {row['ingredients']}\\n\")\n",
    "            f.write(\"-\" * 40 + \"\\n\")\n"
   ]
  },
  {
   "cell_type": "code",
   "execution_count": 35,
   "id": "c26125b7-00a4-46f1-b834-fffed4988a78",
   "metadata": {},
   "outputs": [],
   "source": [
    "df = pd.read_csv('raw/ColorAdditives.csv', \n",
    "                 sep=',', \n",
    "                 quotechar='\"', \n",
    "                 encoding='latin1', \n",
    "                 skiprows=4,\n",
    "                 on_bad_lines='skip',\n",
    "                 low_memory=False)\n",
    "\n",
    "df.columns = df.columns.str.strip()\n",
    "\n",
    "df = df[df['Use'].astype(str).str.contains(\"Food\", na=False)]\n",
    "\n",
    "output_path = 'processed/color_additives.txt'\n",
    "\n",
    "with open(output_path, 'w', encoding='utf-8') as f:\n",
    "    for index, row in df.iterrows():\n",
    "        f.write(f\"{row['Color']}\\n\")\n",
    "        f.write(f\"Status: {row['Status']}\\n\")\n",
    "        f.write(f\"Use: {row['Use']}\\n\")\n",
    "        f.write(f\"Other Names: {row['Other names']}\\n\")\n",
    "        f.write(\"-\" * 40 + \"\\n\")\n",
    "\n"
   ]
  },
  {
   "cell_type": "code",
   "execution_count": 40,
   "id": "bf00d2b0-f72a-4e26-8b73-9d235d4ee1ee",
   "metadata": {
    "scrolled": true
   },
   "outputs": [],
   "source": [
    "df = pd.read_csv('raw/FoodSubstances.csv', \n",
    "                 encoding='latin1', \n",
    "                 skiprows=4, \n",
    "                 on_bad_lines='skip', \n",
    "                 low_memory=False)\n",
    "\n",
    "df.columns = df.columns.str.strip()  # Clean column names\n",
    "\n",
    "output_path = 'processed/food_substances.txt'\n",
    "\n",
    "with open(output_path, 'w', encoding='utf-8') as f:\n",
    "    for index, row in df.iterrows():\n",
    "        f.write(f\"{row['Substance']}\\n\")\n",
    "        f.write(f\"Other Names: {row['Other Names']}\\n\")\n",
    "        f.write(f\"Used For: {row['Used for (Technical Effect)']}\\n\")\n",
    "        f.write(\"-\" * 40 + \"\\n\")\n"
   ]
  },
  {
   "cell_type": "code",
   "execution_count": 48,
   "id": "5d554650-ca18-40c6-9f73-ca8e2787bea9",
   "metadata": {},
   "outputs": [],
   "source": [
    "df = pd.read_csv('raw/SCOGS.csv', \n",
    "                 encoding='latin1', \n",
    "                 skiprows=3, \n",
    "                 on_bad_lines='skip', \n",
    "                 low_memory=False)\n",
    "\n",
    "df.columns = df.columns.str.strip()\n",
    "\n",
    "scogs_type_mapping = {\n",
    "    1: \"No hazard evidence at current/future expected levels.\",\n",
    "    2: \"Safe at current use, more data needed for higher use.\",\n",
    "    3: \"Uncertainty exists, further studies needed.\",\n",
    "    4: \"Insufficient data to rule out adverse effects.\",\n",
    "    5: \"Almost no biological study data available.\"\n",
    "}\n",
    "\n",
    "output_path = 'processed/scogs.txt'\n",
    "\n",
    "with open(output_path, 'w', encoding='utf-8') as f:\n",
    "    for index, row in df.iterrows():\n",
    "        f.write(f\"{row['GRAS Substance']}\\n\")\n",
    "        f.write(f\"Other Names: {row['Other Names']}\\n\")\n",
    "        f.write(f\"SCOGS Report Number: {row['SCOGS Report Number']}\\n\")\n",
    "        f.write(\"-\" * 40 + \"\\n\")\n",
    "\n"
   ]
  },
  {
   "cell_type": "code",
   "execution_count": null,
   "id": "d1276692-e8cb-46fa-a36c-23261fc0a2b0",
   "metadata": {},
   "outputs": [],
   "source": []
  }
 ],
 "metadata": {
  "kernelspec": {
   "display_name": "Python 3 (ipykernel)",
   "language": "python",
   "name": "python3"
  },
  "language_info": {
   "codemirror_mode": {
    "name": "ipython",
    "version": 3
   },
   "file_extension": ".py",
   "mimetype": "text/x-python",
   "name": "python",
   "nbconvert_exporter": "python",
   "pygments_lexer": "ipython3",
   "version": "3.12.7"
  }
 },
 "nbformat": 4,
 "nbformat_minor": 5
}
